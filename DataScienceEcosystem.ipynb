{
 "cells": [
  {
   "cell_type": "markdown",
   "id": "9f155324",
   "metadata": {},
   "source": [
    "# Data Science Tools and Ecosystem"
   ]
  },
  {
   "cell_type": "markdown",
   "id": "6fccd8b0",
   "metadata": {},
   "source": [
    "## In this notebook, Data Science Tools and Ecosystem are summarized."
   ]
  },
  {
   "cell_type": "markdown",
   "id": "9fe45451",
   "metadata": {},
   "source": [
    "**Objectives:**\n",
    "* List popular languages for Data Science\n",
    "* Libraries for Data Science\n",
    "* Tools used for Data Science"
   ]
  },
  {
   "cell_type": "markdown",
   "id": "ac3433dd",
   "metadata": {},
   "source": [
    "### Some of the popular languages that Data Scientists use are:\n",
    "<ol>\n",
    "    Python, \n",
    "    SQL, \n",
    "    R, \n",
    "    VB Applications, \n",
    "    Julia</ol>"
   ]
  },
  {
   "cell_type": "markdown",
   "id": "552f13d3",
   "metadata": {},
   "source": [
    "### Python Libraries for Data Science\n",
    "<ol> NumPy, \n",
    "    Keras, \n",
    "    Pandas, \n",
    "    PyTorch, \n",
    "    SciPy, \n",
    "    Scikit-Learn, \n",
    "    TensorFlow, \n",
    "    Matplotlib</ol>"
   ]
  },
  {
   "cell_type": "markdown",
   "id": "c79dc397",
   "metadata": {},
   "source": [
    "### Data Science Tools"
   ]
  },
  {
   "cell_type": "markdown",
   "id": "845ce7d8",
   "metadata": {},
   "source": [
    "Pytorch\n",
    "Jupyter Notebook\n",
    "RStudio"
   ]
  },
  {
   "cell_type": "markdown",
   "id": "053a260d",
   "metadata": {},
   "source": [
    "### Below are a few examples of evaluating arithmetic expressions in Python"
   ]
  },
  {
   "cell_type": "code",
   "execution_count": 7,
   "id": "396b992c",
   "metadata": {},
   "outputs": [
    {
     "data": {
      "text/plain": [
       "17"
      ]
     },
     "execution_count": 7,
     "metadata": {},
     "output_type": "execute_result"
    }
   ],
   "source": [
    "# This a simple arithmetic expression to mutiply then add integers\n",
    "(3*4)+5"
   ]
  },
  {
   "cell_type": "code",
   "execution_count": 8,
   "id": "0614fbda",
   "metadata": {},
   "outputs": [
    {
     "data": {
      "text/plain": [
       "3"
      ]
     },
     "execution_count": 8,
     "metadata": {},
     "output_type": "execute_result"
    }
   ],
   "source": [
    "# This will convert 200 minutes to hours by diving by 60\n",
    "200//60"
   ]
  },
  {
   "cell_type": "markdown",
   "id": "0ff1083c",
   "metadata": {},
   "source": [
    "## Author\n",
    "Sharvari Tiwari"
   ]
  },
  {
   "cell_type": "code",
   "execution_count": null,
   "id": "73394afc",
   "metadata": {},
   "outputs": [],
   "source": []
  }
 ],
 "metadata": {
  "kernelspec": {
   "display_name": "Python 3 (ipykernel)",
   "language": "python",
   "name": "python3"
  },
  "language_info": {
   "codemirror_mode": {
    "name": "ipython",
    "version": 3
   },
   "file_extension": ".py",
   "mimetype": "text/x-python",
   "name": "python",
   "nbconvert_exporter": "python",
   "pygments_lexer": "ipython3",
   "version": "3.9.7"
  }
 },
 "nbformat": 4,
 "nbformat_minor": 5
}
